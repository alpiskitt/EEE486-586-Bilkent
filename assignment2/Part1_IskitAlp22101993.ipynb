{
 "cells": [
  {
   "cell_type": "markdown",
   "metadata": {
    "id": "X4cRE8IbIrIV"
   },
   "source": [
    "If you're opening this Notebook on colab, you will probably need to install 🤗 Transformers and 🤗 Datasets. Uncomment the following cell and run it. \\\\\n",
    "\n",
    "Then you need to install Git-LFS. Uncomment the following instructions."
   ]
  },
  {
   "cell_type": "code",
   "execution_count": null,
   "metadata": {
    "id": "MOsHUjgdIrIW"
   },
   "outputs": [],
   "source": [
    "%%capture\n",
    "!pip install datasets transformers\n",
    "!apt install git-lfs"
   ]
  },
  {
   "cell_type": "code",
   "execution_count": null,
   "metadata": {
    "id": "4fR1F--Xjs4Q"
   },
   "outputs": [],
   "source": [
    "import huggingface_hub\n",
    "from huggingface_hub import notebook_login\n",
    "your_token = \"ADD YOUR TOKEN HERE\"\n",
    "huggingface_hub.login(token = your_token)"
   ]
  },
  {
   "cell_type": "markdown",
   "metadata": {
    "id": "rEJBSTyZIrIb"
   },
   "source": [
    "# Fine-tuning a model on a text classification task"
   ]
  },
  {
   "cell_type": "markdown",
   "metadata": {
    "id": "kTCFado4IrIc"
   },
   "source": [
    "In this notebook, we will see how to fine-tune one of the [🤗 Transformers](https://github.com/huggingface/transformers) model to a text classification task of the [GLUE Benchmark](https://gluebenchmark.com/). We will focus on CoLA dataset.\n",
    "\n",
    "\n",
    "The GLUE Benchmark is a group of nine classification tasks on sentences or pairs of sentences which are:\n",
    "\n",
    "- [CoLA](https://nyu-mll.github.io/CoLA/) (Corpus of Linguistic Acceptability) Determine if a sentence is grammatically correct or not.is a  dataset containing sentences labeled grammatically correct or not.\n",
    "- [MNLI](https://arxiv.org/abs/1704.05426) (Multi-Genre Natural Language Inference) Determine if a sentence entails, contradicts or is unrelated to a given hypothesis. (This dataset has two versions, one with the validation and test set coming from the same distribution, another called mismatched where the validation and test use out-of-domain data.)\n",
    "- [MRPC](https://www.microsoft.com/en-us/download/details.aspx?id=52398) (Microsoft Research Paraphrase Corpus) Determine if two sentences are paraphrases from one another or not.\n",
    "- [QNLI](https://rajpurkar.github.io/SQuAD-explorer/) (Question-answering Natural Language Inference) Determine if the answer to a question is in the second sentence or not. (This dataset is built from the SQuAD dataset.)\n",
    "- [QQP](https://data.quora.com/First-Quora-Dataset-Release-Question-Pairs) (Quora Question Pairs2) Determine if two questions are semantically equivalent or not.\n",
    "- [RTE](https://aclweb.org/aclwiki/Recognizing_Textual_Entailment) (Recognizing Textual Entailment) Determine if a sentence entails a given hypothesis or not.\n",
    "- [SST-2](https://nlp.stanford.edu/sentiment/index.html) (Stanford Sentiment Treebank) Determine if the sentence has a positive or negative sentiment.\n",
    "- [STS-B](http://ixa2.si.ehu.es/stswiki/index.php/STSbenchmark) (Semantic Textual Similarity Benchmark) Determine the similarity of two sentences with a score from 1 to 5.\n",
    "- [WNLI](https://cs.nyu.edu/faculty/davise/papers/WinogradSchemas/WS.html) (Winograd Natural Language Inference) Determine if a sentence with an anonymous pronoun and a sentence with this pronoun replaced are entailed or not. (This dataset is built from the Winograd Schema Challenge dataset.)\n",
    "\n",
    "We will see how to easily load the dataset for each one of those tasks and use the `Trainer` API to fine-tune a model on it. Each task is named by its acronym, with `mnli-mm` standing for the mismatched version of MNLI (so same training set as `mnli` but different validation and test sets):"
   ]
  },
  {
   "cell_type": "code",
   "execution_count": null,
   "metadata": {
    "id": "YZbiBDuGIrId"
   },
   "outputs": [],
   "source": [
    "GLUE_TASKS = [\"cola\", \"mnli\", \"mnli-mm\", \"mrpc\", \"qnli\", \"qqp\", \"rte\", \"sst2\", \"stsb\", \"wnli\"]"
   ]
  },
  {
   "cell_type": "markdown",
   "metadata": {
    "id": "4RRkXuteIrIh"
   },
   "source": [
    "This notebook is built to run on any of the tasks in the list above, with any model checkpoint from the [Model Hub](https://huggingface.co/models) as long as that model has a version with a classification head. Depending on you model and the GPU you are using, you might need to adjust the batch size to avoid out-of-memory errors. Set those three parameters, then the rest of the notebook should run smoothly:"
   ]
  },
  {
   "cell_type": "code",
   "execution_count": null,
   "metadata": {
    "id": "zVvslsfMIrIh"
   },
   "outputs": [],
   "source": [
    "task = \"rte\"\n",
    "model_checkpoint = \"bert-base-uncased\"\n",
    "batch_size = 128"
   ]
  },
  {
   "cell_type": "markdown",
   "metadata": {
    "id": "whPRbBNbIrIl"
   },
   "source": [
    "## Loading the dataset"
   ]
  },
  {
   "cell_type": "markdown",
   "metadata": {
    "id": "W7QYTpxXIrIl"
   },
   "source": [
    "We will use the [🤗 Datasets](https://github.com/huggingface/datasets) library to download the data and get the metric we need to use for evaluation (to compare our model to the benchmark). This can be easily done with the functions `load_dataset` and `load_metric`.  "
   ]
  },
  {
   "cell_type": "code",
   "execution_count": null,
   "metadata": {
    "colab": {
     "base_uri": "https://localhost:8080/"
    },
    "id": "IreSlFmlIrIm",
    "outputId": "418629b1-fbc6-4c76-9f2c-cb6c115ac2dd"
   },
   "outputs": [],
   "source": [
    "#from datasets import load_dataset, load_metric\n",
    "\n",
    "from datasets import load_dataset\n",
    "!pip install evaluate\n",
    "from evaluate import load"
   ]
  },
  {
   "cell_type": "markdown",
   "metadata": {
    "id": "CKx2zKs5IrIq"
   },
   "source": [
    "Apart from `mnli-mm` being a special code, we can directly pass our task name to those functions. `load_dataset` will cache the dataset to avoid downloading it again the next time you run this cell."
   ]
  },
  {
   "cell_type": "code",
   "execution_count": null,
   "metadata": {
    "colab": {
     "base_uri": "https://localhost:8080/",
     "height": 497,
     "referenced_widgets": [
      "3b833304e17145c0a5be0b913b14f6c6",
      "c855303715cd445f91139b51ed523a3c",
      "6794468667b84111a965ba0593f81eb6",
      "34c16a0b47144d128503113d985d0dc8",
      "013b77a5cd7f4946b42462ff77c68237",
      "9e049628a3764f27b58fdbf64216656b",
      "8984c2473a214257aaaaeed8fdf889e4",
      "9561b6b74a8d470c8376dcf0fa938082",
      "fdb31772749f407dbfcc4360112deec6",
      "d057fba8b8b54e7c8370469b57cae07d",
      "6304cae0745b436eb1598636eedbca54",
      "dc2b07273f364c58ada134499d3b903c",
      "a10fa369ea8d43cab65866845e992e4c",
      "ae3a94d1733a45da871df0dd66afab2e",
      "0258c3e55e2d48389443a54d46dd9a84",
      "2fbf5cfd37ad4a68b442a693bcf9e16e",
      "bbaac085a1294dcab9e7efea27dfb74c",
      "3e0a61060a6d4c48ac1c09ecfb752099",
      "c12f4e854bb14b9f8f5a13ee9116c42a",
      "4e0214ad1409432588ea97eb6dcc0e4d",
      "7fe62731393f4652a97c21c587a0a55f",
      "df0c4961812945af9e1b1aa36c9a6bdd",
      "f8a1e19216a44c22899cac31888e3d02",
      "9f0d4d9919e14ff2bc72769735505eaf",
      "3f5664a5b43b4e89aa5f9fd343d5aeb4",
      "ae672b0767184b399bbb345efcaeaa63",
      "9acb34bd6073486caa4561bc37975ac0",
      "a754110e8fd347d8863f763dc57b8dba",
      "1dd65f71bebf436a8ceae3873c9de811",
      "33c3b61a019c4acc974f98ad5386ca00",
      "25427cad34e74da9960d2b8c3b286cbf",
      "840f17766c034b24ba61d932e753b967",
      "2fbcac1809e744c29112daab4f025868",
      "377442a7ee3547cc8796c06f1cdf8870",
      "4d6690189c76431197c88a75853a13b1",
      "83c996e7c61c497d9bccadda8a08a69a",
      "d37b9cf916334da59f995670b7ffa17c",
      "1c136dc2521044af9aaffe32b4c30448",
      "4aef3850451641a3b68fa98ef0c04111",
      "cbd88a3eefe24ba2958c67bd69f5e003",
      "cb5571dea3ba4f21b4f214e0d8ab6267",
      "ece938b00aff469a981966e1d8a1c36c",
      "5e0e2e8ca873496a852ce15238f35189",
      "aa2a666fc06f4b4c9031fc4287fafc06",
      "80aa3e86690747d2ad0fb530821e6592",
      "f63a895163194971a724edc797822861",
      "fcd4483cc86e4bd5b637982ef128fa31",
      "5c0143ef2ffc41cf9e740decd19745cf",
      "053e955bd5954a959c5327fb775dbb8b",
      "0724a753ffe14dac9c11cc03eebbff05",
      "4e8cc60dbd954a009d1f52c1bc6c7b7b",
      "0e37b9cb99cb4cbca4f50d61be12aeb1",
      "e5699f6fb5e64a7582879a5eacaaba93",
      "7cd3eea657f04465bdec9495f174ff86",
      "926974ed765d4148819921bc7e84039f",
      "9c5a1aa0bcb145bf83938c847939cadd",
      "a85a22d4d4ca49ec9265f2588e3e4ae2",
      "2d0b950cef924c808fe347cbd128ab21",
      "2c07cc21b01c4af2a7c376134936756b",
      "e720acc669134db584d73610baa5b7e1",
      "5d783e8867d448e3a8a139d4640c72a6",
      "8afa4b67db484265a39e37910bb32a69",
      "fe20ec7d23e14fd0b191a3b7cd68ea4a",
      "d1296eb8dc50450897ebbf1ac24b6811",
      "225d78eec80c4dbc886226a4fe51de7e",
      "cf13fc90fcd5439eb06e5f6ec78ddafa",
      "23a22d0d27d54718af3fc702b5bcb7c9",
      "603f71d6949942a094cb760f769bd862",
      "650c2635cab14bf6b5b926533676c72a",
      "ec52094db6bc48f3b5ddceb8261917f2",
      "1ec4b24128ce4c58983f8f6ca730a85b",
      "fa7311022e1f4d9786d932aeebfd4f2f",
      "b5df5c3203d4467497922ce4da9669b1",
      "753a0b0e78344134ba3b08fb9afbd712",
      "7571d318b71e469c85e5cc4fb4195401",
      "755e5a249c3142f19d67fea0b6c76984",
      "bb41d891a5224d7aa020f2685091bd3a",
      "dd55f64f4289475892466205ad3b1923",
      "65f2c1c11e36445b98ae01237e57fc19",
      "65adb214a04c4c0bbbbd29da977ae9ba",
      "e4443c9ca7f649abb1970bda9d02e4a6",
      "4710a92eab0b4f419da0eebd5f206a32",
      "3fb1439b663e415487af153001bf0d68",
      "a26a1b79ff14451692fe1e4a1c8bec8a",
      "1553200d944f40839e346203b937af12",
      "2381a8ee76d8410ebac3c679e9687bc0",
      "a0736c91ca4c4f1abf0eeaf829063de1",
      "9cb50a5b1f6f4a95898b5f553eb469a1"
     ]
    },
    "id": "s_AY1ATSIrIq",
    "outputId": "58fc5845-7467-4ddc-cbfa-ee0f97b08433"
   },
   "outputs": [],
   "source": [
    "actual_task = \"mnli\" if task == \"mnli-mm\" else task\n",
    "print(f\"Task is: {actual_task} \")\n",
    "dataset = load_dataset(\"glue\", actual_task)\n",
    "\n",
    "!pip install scikit-learn\n",
    "metric = load(\"accuracy\")"
   ]
  },
  {
   "cell_type": "markdown",
   "metadata": {
    "id": "RzfPtOMoIrIu"
   },
   "source": [
    "The `dataset` object itself is [`DatasetDict`](https://huggingface.co/docs/datasets/package_reference/main_classes.html#datasetdict), which contains one key for the training, validation and test set (with more keys for the mismatched validation and test set in the special case of `mnli`)."
   ]
  },
  {
   "cell_type": "code",
   "execution_count": null,
   "metadata": {
    "colab": {
     "base_uri": "https://localhost:8080/"
    },
    "id": "GWiVUF0jIrIv",
    "outputId": "d86bf771-515e-4c77-b352-9f06a5f610e4"
   },
   "outputs": [],
   "source": [
    "dataset"
   ]
  },
  {
   "cell_type": "markdown",
   "metadata": {
    "id": "u3EtYfeHIrIz"
   },
   "source": [
    "To access an actual element, you need to select a split first, then give an index:"
   ]
  },
  {
   "cell_type": "code",
   "execution_count": null,
   "metadata": {
    "colab": {
     "base_uri": "https://localhost:8080/"
    },
    "id": "X6HrpprwIrIz",
    "outputId": "6333be5e-8534-4b67-abe9-b0c5ace36fac"
   },
   "outputs": [],
   "source": [
    "dataset[\"train\"][0]"
   ]
  },
  {
   "cell_type": "code",
   "execution_count": null,
   "metadata": {
    "colab": {
     "base_uri": "https://localhost:8080/"
    },
    "id": "V1B6HMMkaucf",
    "outputId": "21a612e3-9015-41a9-be3d-d516db4d070d"
   },
   "outputs": [],
   "source": [
    "dataset[\"test\"][1]\n",
    "#All the test labels are DUMMY"
   ]
  },
  {
   "cell_type": "markdown",
   "metadata": {
    "id": "WHUmphG3IrI3"
   },
   "source": [
    "To get a sense of what the data looks like, the following function will show some examples picked randomly in the dataset."
   ]
  },
  {
   "cell_type": "code",
   "execution_count": null,
   "metadata": {
    "id": "i3j8APAoIrI3"
   },
   "outputs": [],
   "source": [
    "import datasets\n",
    "import random\n",
    "import pandas as pd\n",
    "from IPython.display import display, HTML\n",
    "\n",
    "def show_random_elements(dataset, num_examples=10):\n",
    "    assert num_examples <= len(dataset), \"Can't pick more elements than there are in the dataset.\"\n",
    "    picks = []\n",
    "    for _ in range(num_examples):\n",
    "        pick = random.randint(0, len(dataset)-1)\n",
    "        while pick in picks:\n",
    "            pick = random.randint(0, len(dataset)-1)\n",
    "        picks.append(pick)\n",
    "\n",
    "    df = pd.DataFrame(dataset[picks])\n",
    "    for column, typ in dataset.features.items():\n",
    "        if isinstance(typ, datasets.ClassLabel):\n",
    "            df[column] = df[column].transform(lambda i: typ.names[i])\n",
    "    display(HTML(df.to_html()))"
   ]
  },
  {
   "cell_type": "code",
   "execution_count": null,
   "metadata": {
    "colab": {
     "base_uri": "https://localhost:8080/",
     "height": 767
    },
    "id": "SZy5tRB_IrI7",
    "outputId": "845a18b0-0df4-4911-b017-0b5a6cb1fbe7"
   },
   "outputs": [],
   "source": [
    "show_random_elements(dataset[\"train\"])"
   ]
  },
  {
   "cell_type": "markdown",
   "metadata": {
    "id": "lnjDIuQ3IrI-"
   },
   "source": [
    "The metric is an instance of [`datasets.Metric`](https://huggingface.co/docs/datasets/package_reference/main_classes.html#datasets.Metric):"
   ]
  },
  {
   "cell_type": "markdown",
   "metadata": {
    "id": "jAWdqcUBIrJC"
   },
   "source": [
    "You can call its `compute` method with your predictions and labels directly and it will return a dictionary with the metric(s) value:"
   ]
  },
  {
   "cell_type": "code",
   "execution_count": null,
   "metadata": {
    "colab": {
     "base_uri": "https://localhost:8080/"
    },
    "id": "6XN1Rq0aIrJC",
    "outputId": "23fa7925-0d1d-4c64-ae5a-01db4a73bd1b"
   },
   "outputs": [],
   "source": [
    "import numpy as np\n",
    "\n",
    "fake_preds = np.random.randint(0, 2, size=(64,))\n",
    "fake_labels = np.random.randint(0, 2, size=(64,))\n",
    "metric.compute(predictions=fake_preds, references=fake_labels)"
   ]
  },
  {
   "cell_type": "markdown",
   "metadata": {
    "id": "n9qywopnIrJH"
   },
   "source": [
    "## Preprocessing the data"
   ]
  },
  {
   "cell_type": "markdown",
   "metadata": {
    "id": "YVx71GdAIrJH"
   },
   "source": [
    "Before we can feed those texts to our model, we need to preprocess them. This is done by a 🤗 Transformers `Tokenizer` which will (as the name indicates) tokenize the inputs (including converting the tokens to their corresponding IDs in the pretrained vocabulary) and put it in a format the model expects, as well as generate the other inputs that model requires.\n",
    "\n",
    "To do all of this, we instantiate our tokenizer with the `AutoTokenizer.from_pretrained` method, which will ensure:\n",
    "\n",
    "- we get a tokenizer that corresponds to the model architecture we want to use,\n",
    "- we download the vocabulary used when pretraining this specific checkpoint.\n",
    "\n",
    "That vocabulary will be cached, so it's not downloaded again the next time we run the cell."
   ]
  },
  {
   "cell_type": "code",
   "execution_count": null,
   "metadata": {
    "colab": {
     "base_uri": "https://localhost:8080/",
     "height": 145,
     "referenced_widgets": [
      "ad68fb0746fd4cffb81c601056c74d19",
      "8dcaa53df69f4b0e8751d9f0b8083c84",
      "23b9ed91113847d289b00e56e02378b9",
      "c9d6277b0f6f4880b7f04f03750ea7ed",
      "550884f7832b4d3c9db49d9bb594868d",
      "471cc7c3449e4211aab3b6b069e1cff0",
      "dedd260c4b2143168ece40f95b16fad9",
      "8066f1f0b4e24ab88b1b38f70bf016eb",
      "0f477cb4556e46b18a345a75db4ab932",
      "3ecc4b96d7ae46aaaec096bccaa96e59",
      "23b5660cb3b949d0998a59f989e5cc84",
      "156f5c86f5ad426cb15157e3c947c82b",
      "a0a6a779b1894ed68786b3376da23124",
      "f308eecef66c4b89845a6a4ce8045632",
      "7a54c0d69b314c5eb7acf505d337e3e0",
      "ccef079976c94370b85c11410ec7929d",
      "991b578553cd47419b5d1b97be8acb8e",
      "e567b5c1fcdf4eb593f7425b69b4faef",
      "7fee3a1bc030465aaa407288f05ad0cb",
      "2bc516718be24d6e98e22ee88720962f",
      "6431e138623949569870ca9b2410d871",
      "7d6136dc88ac449384f987818185d9a3",
      "505dcc15651e4fe38fbef336c6203674",
      "4458f6487f454c1fa6d50df7c626cc32",
      "fcd81a2bbc4f4c4a9c0dee8dbfc58a16",
      "96de7429c5504c27b9afdc2e4e7e08e0",
      "9fd4aa112d704a188cede40fb4eea4a7",
      "ed4ddf7fe3204ba48d9dd294093e18f8",
      "dd5fd15cda2d48a99e5ce59f92039b84",
      "a530edc8035b4f8580fcaefd59b30af9",
      "c8025c5ef2dc4596bba8df72f6ca54ea",
      "4e599111fe304ee2b6215a8715851cfc",
      "76bfb5ced9d04bd7a68a86e43ebb6a6c",
      "b097675c444b43f2be81ae65c19b218b",
      "0aa2b9667eca4bc2ab5da1caba2fd761",
      "04bdf96521404709a76f5a96ec6e1205",
      "36e282f138174206ab9c9d0254e97b84",
      "9a77a0d69a4844f3a7694bce8d90a56e",
      "e64f5e5b7a30438687f1eea67c6fae49",
      "824e1a02238f468b9c2267c8fae5896f",
      "ac02152c09bb434aa171da379ad4b203",
      "6e5b75ce6f23459487afa3047a32b0b1",
      "5c9815999d934761a97aab66aa9866fa",
      "ed9d18fc17c545c3b5939f7343c76cce"
     ]
    },
    "id": "eXNLu_-nIrJI",
    "outputId": "46f419a8-ff3d-4516-c394-557d789fd6b1"
   },
   "outputs": [],
   "source": [
    "from transformers import AutoTokenizer\n",
    "\n",
    "tokenizer = AutoTokenizer.from_pretrained(model_checkpoint, use_fast=True)"
   ]
  },
  {
   "cell_type": "markdown",
   "metadata": {
    "id": "Vl6IidfdIrJK"
   },
   "source": [
    "We pass along `use_fast=True` to the call above to use one of the fast tokenizers (backed by Rust) from the 🤗 Tokenizers library. Those fast tokenizers are available for almost all models, but if you got an error with the previous call, remove that argument."
   ]
  },
  {
   "cell_type": "markdown",
   "metadata": {
    "id": "rowT4iCLIrJK"
   },
   "source": [
    "You can directly call this tokenizer on one sentence or a pair of sentences:"
   ]
  },
  {
   "cell_type": "code",
   "execution_count": null,
   "metadata": {
    "colab": {
     "base_uri": "https://localhost:8080/"
    },
    "id": "a5hBlsrHIrJL",
    "outputId": "61509ad4-d0ee-4868-92e2-a42b828bdb6a"
   },
   "outputs": [],
   "source": [
    "tokenizer(\"Hello, this one sentence!\", max_length=50, padding=\"max_length\", truncation=True)"
   ]
  },
  {
   "cell_type": "code",
   "execution_count": null,
   "metadata": {
    "colab": {
     "base_uri": "https://localhost:8080/"
    },
    "id": "jkyh2Wkfy_67",
    "outputId": "e3b7d98e-e237-4eff-9f91-dff080c514fc"
   },
   "outputs": [],
   "source": [
    "tokenizer(\"Hello, this one sentence!\")"
   ]
  },
  {
   "cell_type": "code",
   "execution_count": null,
   "metadata": {
    "colab": {
     "base_uri": "https://localhost:8080/"
    },
    "id": "YyD5WzbPzFak",
    "outputId": "57124fe6-e89a-485b-bd73-60f821060063"
   },
   "outputs": [],
   "source": [
    "tokenizer(\"Hello, this one sentence!\",\"What is going on here!\")"
   ]
  },
  {
   "cell_type": "markdown",
   "metadata": {
    "id": "qo_0B1M2IrJM"
   },
   "source": [
    "Depending on the model you selected, you will see different keys in the dictionary returned by the cell above. They don't matter much for what we're doing here (just know they are required by the model we will instantiate later), you can learn more about them in [this tutorial](https://huggingface.co/transformers/preprocessing.html) if you're interested.\n",
    "\n",
    "To preprocess our dataset, we will thus need the names of the columns containing the sentence(s). The following dictionary keeps track of the correspondence task to column names:"
   ]
  },
  {
   "cell_type": "code",
   "execution_count": null,
   "metadata": {
    "id": "fyGdtK9oIrJM"
   },
   "outputs": [],
   "source": [
    "task_to_keys = {\n",
    "    \"cola\": (\"sentence\", None),\n",
    "    \"mnli\": (\"premise\", \"hypothesis\"),\n",
    "    \"mnli-mm\": (\"premise\", \"hypothesis\"),\n",
    "    \"mrpc\": (\"sentence1\", \"sentence2\"),\n",
    "    \"qnli\": (\"question\", \"sentence\"),\n",
    "    \"qqp\": (\"question1\", \"question2\"),\n",
    "    \"rte\": (\"sentence1\", \"sentence2\"),\n",
    "    \"sst2\": (\"sentence\", None),\n",
    "    \"stsb\": (\"sentence1\", \"sentence2\"),\n",
    "    \"wnli\": (\"sentence1\", \"sentence2\"),\n",
    "}"
   ]
  },
  {
   "cell_type": "markdown",
   "metadata": {
    "id": "xbqtC4MrIrJO"
   },
   "source": [
    "We can double check it does work on our current dataset. Recall the dataset object again:"
   ]
  },
  {
   "cell_type": "code",
   "execution_count": null,
   "metadata": {
    "colab": {
     "base_uri": "https://localhost:8080/"
    },
    "id": "2xoTaXvP4Tcm",
    "outputId": "debd8a05-fecd-4345-aba3-9b85070377d2"
   },
   "outputs": [],
   "source": [
    "dataset['test'][1]"
   ]
  },
  {
   "cell_type": "code",
   "execution_count": null,
   "metadata": {
    "colab": {
     "base_uri": "https://localhost:8080/"
    },
    "id": "FR-hVQe9sgv6",
    "outputId": "116c29db-afc3-48f8-c05e-7d232e803e7a"
   },
   "outputs": [],
   "source": [
    "print(dataset['test']['label'])"
   ]
  },
  {
   "cell_type": "code",
   "execution_count": null,
   "metadata": {
    "colab": {
     "base_uri": "https://localhost:8080/"
    },
    "id": "19GG646uIrJO",
    "outputId": "db2e12e5-628b-4577-e6ea-6afcdb83ac86"
   },
   "outputs": [],
   "source": [
    "sentence1_key, sentence2_key = task_to_keys[task]\n",
    "if sentence2_key is None:\n",
    "    print(f\"Sentence: {dataset['train'][0][sentence1_key]}\")\n",
    "else:\n",
    "    print(f\"Sentence 1: {dataset['train'][0][sentence1_key]}\")\n",
    "    print(f\"Sentence 2: {dataset['train'][0][sentence2_key]}\")"
   ]
  },
  {
   "cell_type": "markdown",
   "metadata": {
    "id": "2C0hcmp9IrJQ"
   },
   "source": [
    "We can then write the function that will preprocess our samples. We just feed them to the `tokenizer` with the argument `truncation=True`. This will ensure that an input longer that what the model selected can handle will be truncated to the maximum length accepted by the model."
   ]
  },
  {
   "cell_type": "code",
   "execution_count": null,
   "metadata": {
    "id": "vc0BSBLIIrJQ"
   },
   "outputs": [],
   "source": [
    "def preprocess_function(examples):\n",
    "    if sentence2_key is None:\n",
    "        return tokenizer(examples[sentence1_key], truncation=True)\n",
    "    return tokenizer(examples[sentence1_key], examples[sentence2_key], truncation=True)"
   ]
  },
  {
   "cell_type": "markdown",
   "metadata": {
    "id": "0lm8ozrJIrJR"
   },
   "source": [
    "This function works with one or several examples. In the case of several examples, the tokenizer will return a list of lists for each key:"
   ]
  },
  {
   "cell_type": "code",
   "execution_count": null,
   "metadata": {
    "colab": {
     "base_uri": "https://localhost:8080/"
    },
    "id": "-b70jh26IrJS",
    "outputId": "a148a6c0-2d99-4744-8f33-76b865d3fc88"
   },
   "outputs": [],
   "source": [
    "preprocess_function(dataset['train'][:1])\n"
   ]
  },
  {
   "cell_type": "markdown",
   "metadata": {
    "id": "zS-6iXTkIrJT"
   },
   "source": [
    "To apply this function on all the sentences (or pairs of sentences) in our dataset, we just use the `map` method of our `dataset` object we created earlier. This will apply the function on all the elements of all the splits in `dataset`, so our training, validation and testing data will be preprocessed in one single command."
   ]
  },
  {
   "cell_type": "code",
   "execution_count": null,
   "metadata": {
    "colab": {
     "base_uri": "https://localhost:8080/",
     "height": 113,
     "referenced_widgets": [
      "9c2330d2b95646bdbdedd4f2b94ec1bf",
      "367470b0e0f64fe6821c453bf185addc",
      "f8faf9902dc94f6f8e80fd5e2614c163",
      "6f0ab17a6b064004b0dab3b9e5101222",
      "a3201e8d9fbc47a6afcd130c607141af",
      "44c980d053804c7f85e2e39ff82e54b0",
      "d36bbbe425da47109bc0f38a00c8c31f",
      "3c0ddb3c01564d0aab497348c2108973",
      "83686023e5ee44acb62fc95ffecc9372",
      "0b4461780b624570884bee1da43e5d43",
      "3a392102b7b94aa483891b74ea7e5801",
      "7b29e2fd11874a9d927e923c892aaeae",
      "979ec3f055fb4c539351b677ac915955",
      "5df22903131741b09bab23f3d2c3cfd9",
      "a19be50e9a784455a77491ac754475e5",
      "19e15048160840da9b72cfc69aefba56",
      "55fbd4d82a794b06a5bcec9146ac41ab",
      "eccdbb7a7ee1435da187caab2cee7ac7",
      "6dc9c0afbe19451ca692ad31fb128303",
      "0a854bfd42054094a81632cbdc83c744",
      "14d67ed858c64aeea158e0377a709ee3",
      "9300d68886684bfa988dd470fe5217ef",
      "0558b4f836634774a706bf08dca75547",
      "96ddc40924e4456fa494fce554817996",
      "23b765543525415e993ffc9c5f94ce30",
      "b463eb99287d4f9289545ae86460f219",
      "84535e3dfa854be1815a476d98711054",
      "bedfdb5c27d14ffdb120e853778c950d",
      "9f1b7863f04845cb963fb3e966c052d2",
      "98e672703538425092f377004cbbc35c",
      "529815c8b2494e16855e008ae68fb96b",
      "7a1199e48c0c4a87bcdf97e85069b7f3",
      "e510dc1cad524a03a9880c642c73f491"
     ]
    },
    "id": "DDtsaJeVIrJT",
    "outputId": "b72df127-9a0e-4885-f670-e5b0a413974e"
   },
   "outputs": [],
   "source": [
    "encoded_dataset = dataset.map(preprocess_function, batched=True)"
   ]
  },
  {
   "cell_type": "markdown",
   "metadata": {
    "id": "voWiw8C7IrJV"
   },
   "source": [
    "Even better, the results are automatically cached by the 🤗 Datasets library to avoid spending time on this step the next time you run your notebook. The 🤗 Datasets library is normally smart enough to detect when the function you pass to map has changed (and thus requires to not use the cache data). For instance, it will properly detect if you change the task in the first cell and rerun the notebook. 🤗 Datasets warns you when it uses cached files, you can pass `load_from_cache_file=False` in the call to `map` to not use the cached files and force the preprocessing to be applied again.\n",
    "\n",
    "Note that we passed `batched=True` to encode the texts by batches together. This is to leverage the full benefit of the fast tokenizer we loaded earlier, which will use multi-threading to treat the texts in a batch concurrently."
   ]
  },
  {
   "cell_type": "markdown",
   "metadata": {
    "id": "545PP3o8IrJV"
   },
   "source": [
    "## Fine-tuning the model"
   ]
  },
  {
   "cell_type": "markdown",
   "metadata": {
    "id": "FBiW8UpKIrJW"
   },
   "source": [
    "Now that our data is ready, we can download the pretrained model and fine-tune it. Since all our tasks are about sentence classification, we use the `AutoModelForSequenceClassification` class. Like with the tokenizer, the `from_pretrained` method will download and cache the model for us. The only thing we have to specify is the number of labels for our problem (which is always 2, except for STS-B which is a regression problem and MNLI where we have 3 labels):"
   ]
  },
  {
   "cell_type": "code",
   "execution_count": null,
   "metadata": {
    "colab": {
     "base_uri": "https://localhost:8080/"
    },
    "id": "gePIsbnpqLCq",
    "outputId": "6abd9f1a-7c15-4790-b2ec-be12145cf365"
   },
   "outputs": [],
   "source": [
    "encoded_dataset"
   ]
  },
  {
   "cell_type": "code",
   "execution_count": null,
   "metadata": {
    "colab": {
     "base_uri": "https://localhost:8080/",
     "height": 103,
     "referenced_widgets": [
      "5eb07910a7ab41f5ac562211b31bcf75",
      "ee0678b9f09f45d78b44bc66667859d6",
      "27eb3e8eb4a54f69b149b46b372a3da6",
      "f5ec232c473a4a5b91790c801518d82b",
      "9b00bfb368c0447d842c862fe7e0b945",
      "ea168b03ac194f6f97dbe31e910c14a5",
      "aeec2884834043e8bf9f6dab1c21e246",
      "d6a372462f70419c96973c6f1a2f9475",
      "32e59ce0bf5e416396d20740b8de9721",
      "acba319bc96a4a689702582f41bceee3",
      "64c3a3db4ab64d70a6ad17288ddf6208"
     ]
    },
    "id": "TlqNaB8jIrJW",
    "outputId": "430a935d-cddd-4335-e2f9-e4b988ea169f"
   },
   "outputs": [],
   "source": [
    "from transformers import AutoModelForSequenceClassification, TrainingArguments, Trainer\n",
    "import torch\n",
    "from transformers import logging\n",
    "\n",
    "logging.set_verbosity_error() #Since we learn the meaning of warning, we can silence it.\n",
    "\n",
    "num_labels = 3 if task.startswith(\"mnli\") else 1 if task==\"stsb\" else 2\n",
    "\n",
    "model_checkpoint = \"bert-base-uncased\"\n",
    "model = AutoModelForSequenceClassification.from_pretrained(model_checkpoint, num_labels=2)\n",
    "model.dropout.p = 0.4\n"
   ]
  },
  {
   "cell_type": "code",
   "execution_count": null,
   "metadata": {
    "colab": {
     "base_uri": "https://localhost:8080/"
    },
    "id": "le6yerAGzZzM",
    "outputId": "19e17c3a-48f3-4da0-a965-93fe8da7835a"
   },
   "outputs": [],
   "source": [
    "print(model)"
   ]
  },
  {
   "cell_type": "markdown",
   "metadata": {
    "id": "CczA5lJlIrJX"
   },
   "source": [
    "The warning is telling us we are throwing away some weights (the `vocab_transform` and `vocab_layer_norm` layers) and randomly initializing some other (the `pre_classifier` and `classifier` layers). This is absolutely normal in this case, because we are removing the head used to pretrain the model on a masked language modeling objective and replacing it with a new head for which we don't have pretrained weights, so the library warns us we should fine-tune this model before using it for inference, which is exactly what we are going to do."
   ]
  },
  {
   "cell_type": "markdown",
   "metadata": {
    "id": "_N8urzhyIrJY"
   },
   "source": [
    "To instantiate a `Trainer`, we will need to define two more things. The most important is the [`TrainingArguments`](https://huggingface.co/transformers/main_classes/trainer.html#transformers.TrainingArguments), which is a class that contains all the attributes to customize the training. It requires one folder name, which will be used to save the checkpoints of the model, and all other arguments are optional:"
   ]
  },
  {
   "cell_type": "code",
   "execution_count": null,
   "metadata": {
    "colab": {
     "base_uri": "https://localhost:8080/"
    },
    "id": "Bliy8zgjIrJY",
    "outputId": "b37be587-19bf-42b5-a2aa-f9d05a9d42b0"
   },
   "outputs": [],
   "source": [
    "metric_name = \"pearson\" if task == \"stsb\" else \"matthews_correlation\" if task == \"cola\" else \"accuracy\"\n",
    "model_name = model_checkpoint.split(\"/\")[-1]\n",
    "run_no=\"3\"\n",
    "args = TrainingArguments(\n",
    "    f\"{model_name}-finetuned-{task}-run_{run_no}\",\n",
    "    evaluation_strategy = \"epoch\",\n",
    "    save_strategy = \"epoch\",\n",
    "    learning_rate=2e-5,\n",
    "    per_device_train_batch_size=batch_size,\n",
    "    per_device_eval_batch_size=batch_size,\n",
    "    num_train_epochs=2,\n",
    "    weight_decay=0.01,\n",
    "    load_best_model_at_end=True,\n",
    "    metric_for_best_model=metric_name,\n",
    "    push_to_hub=True,\n",
    ")"
   ]
  },
  {
   "cell_type": "markdown",
   "metadata": {
    "id": "km3pGVdTIrJc"
   },
   "source": [
    "Here we set the evaluation to be done at the end of each epoch, tweak the learning rate, use the `batch_size` defined at the top of the notebook and customize the number of epochs for training, as well as the weight decay. Since the best model might not be the one at the end of training, we ask the `Trainer` to load the best model it saved (according to `metric_name`) at the end of training.\n",
    "\n",
    "The last argument to setup everything so we can push the model to the [Hub](https://huggingface.co/models) regularly during training. Remove it if you didn't follow the installation steps at the top of the notebook. If you want to save your model locally in a name that is different than the name of the repository it will be pushed, or if you want to push your model under an organization and not your name space, use the `hub_model_id` argument to set the repo name. Otherwise, it will be pushed directly to your own account."
   ]
  },
  {
   "cell_type": "markdown",
   "metadata": {
    "id": "7sZOdRlRIrJd"
   },
   "source": [
    "The last thing to define for our `Trainer` is how to compute the metrics from the predictions. We need to define a function for this, which will just use the `metric` we loaded earlier, the only preprocessing we have to do is to take the argmax of our predicted logits (our just squeeze the last axis in the case of STS-B):"
   ]
  },
  {
   "cell_type": "code",
   "execution_count": null,
   "metadata": {
    "id": "UmvbnJ9JIrJd"
   },
   "outputs": [],
   "source": [
    "def compute_metrics(eval_pred):\n",
    "    predictions, labels = eval_pred\n",
    "    if task != \"stsb\":\n",
    "        predictions = np.argmax(predictions, axis=1)\n",
    "    else:\n",
    "        predictions = predictions[:, 0]\n",
    "    return metric.compute(predictions=predictions, references=labels)"
   ]
  },
  {
   "cell_type": "markdown",
   "metadata": {
    "id": "rXuFTAzDIrJe"
   },
   "source": [
    "Then we just need to pass all of this along with our datasets to the `Trainer`:"
   ]
  },
  {
   "cell_type": "code",
   "execution_count": null,
   "metadata": {
    "colab": {
     "base_uri": "https://localhost:8080/"
    },
    "id": "imY1oC3SIrJf",
    "outputId": "7ba7cd04-ad2b-496e-8107-445d49fcf7cd"
   },
   "outputs": [],
   "source": [
    "validation_key = \"validation_mismatched\" if task == \"mnli-mm\" else \"validation_matched\" if task == \"mnli\" else \"validation\"\n",
    "trainer = Trainer(\n",
    "    model,\n",
    "    args,\n",
    "    train_dataset=encoded_dataset[\"train\"],\n",
    "    eval_dataset=encoded_dataset[validation_key],\n",
    "    tokenizer=tokenizer,\n",
    "    compute_metrics=compute_metrics\n",
    ")"
   ]
  },
  {
   "cell_type": "markdown",
   "metadata": {
    "id": "ibWGmvxbIrJg"
   },
   "source": [
    "You might wonder why we pass along the `tokenizer` when we already preprocessed our data. This is because we will use it once last time to make all the samples we gather the same length by applying padding, which requires knowing the model's preferences regarding padding (to the left or right? with which token?). The `tokenizer` has a pad method that will do all of this right for us, and the `Trainer` will use it. You can customize this part by defining and passing your own `data_collator` which will receive the samples like the dictionaries seen above and will need to return a dictionary of tensors."
   ]
  },
  {
   "cell_type": "markdown",
   "metadata": {
    "id": "CdzABDVcIrJg"
   },
   "source": [
    "We can now finetune our model by just calling the `train` method:"
   ]
  },
  {
   "cell_type": "code",
   "execution_count": null,
   "metadata": {
    "colab": {
     "base_uri": "https://localhost:8080/"
    },
    "id": "NQRur9HBk4Do",
    "outputId": "6171b555-4b05-40a8-c232-53e69df19cd2"
   },
   "outputs": [],
   "source": [
    "# Recall that we have CUDA device. Lets check the amount of memory.\n",
    "!nvidia-smi"
   ]
  },
  {
   "cell_type": "code",
   "execution_count": null,
   "metadata": {
    "colab": {
     "base_uri": "https://localhost:8080/",
     "height": 394
    },
    "id": "uNx5pyRlIrJh",
    "outputId": "60969c9f-6c6d-46d4-e7d1-ad69ab47da66"
   },
   "outputs": [],
   "source": [
    "trainer.train()"
   ]
  },
  {
   "cell_type": "markdown",
   "metadata": {
    "id": "CKASz-2vIrJi"
   },
   "source": [
    "We can check with the `evaluate` method that our `Trainer` did reload the best model properly (if it was not the last one):"
   ]
  },
  {
   "cell_type": "code",
   "execution_count": null,
   "metadata": {
    "colab": {
     "base_uri": "https://localhost:8080/"
    },
    "id": "UOUcBkX8IrJi",
    "outputId": "e48690eb-a686-4ee7-8be6-382bcdd13c3a"
   },
   "outputs": [],
   "source": [
    "trainer.evaluate()"
   ]
  },
  {
   "cell_type": "markdown",
   "metadata": {
    "id": "ffP-VQOyIrJk"
   },
   "source": [
    "To see how your model fared you can compare it to the [GLUE Benchmark leaderboard](https://gluebenchmark.com/leaderboard)."
   ]
  },
  {
   "cell_type": "markdown",
   "metadata": {
    "id": "p0gu8zs5js4X"
   },
   "source": [
    "You can now upload the result of the training to the Hub, just execute this instruction:"
   ]
  },
  {
   "cell_type": "code",
   "execution_count": null,
   "metadata": {
    "id": "af1m_unzjs4X"
   },
   "outputs": [],
   "source": [
    "%%capture\n",
    "trainer.push_to_hub()  #THIS COMMAND PUSHES THE HUGGING FACE THE LAST MODEL"
   ]
  },
  {
   "cell_type": "markdown",
   "metadata": {
    "id": "xHc1A_8z69KG"
   },
   "source": [
    "Now you can always download your model with `AutoModelForSequenceClassification` with the model name."
   ]
  },
  {
   "cell_type": "code",
   "execution_count": null,
   "metadata": {
    "colab": {
     "base_uri": "https://localhost:8080/",
     "height": 846,
     "referenced_widgets": [
      "e82098c8645b4bf58dcd3ed37e513e9a",
      "8d189fdf27af40da84619fef20248900",
      "e574ae89cd3141fea2b8307c8388abd2",
      "42bd8f47a8ad42c7870df642b180d9e7",
      "084e7d20b5454481995da58a11d031d6",
      "4436339638174ed885107964e8066590",
      "03a5d79e58e54572bd3c053ec83bb7a5",
      "cc92f4b97190448682470d8f81355167",
      "d4c0483f05444a5d8af49d7cb9a47a9e",
      "2c18eb26d3274762b88a58c6a1e604b0",
      "24c9d1b04bfd41f8b7ec1317f74cc6ae",
      "bd12f34e1087498eb395d14014aa5b40",
      "8f4db7c5237341fea4513bd884e2491b",
      "39ff9a98364b40d0b64217e9742657b4",
      "8e1f770bbfdb4c6296029ba9980a64a6",
      "b06a047d5fec4b53bfd838a0dbd45b8c",
      "56799bfb3c8242ac9f591ed6245b5337",
      "0d566e91559f41a386db614b5f2a9f38",
      "66403609c2b24a9d880c6f68c741e273",
      "210da9a29a8143ba99e98d256f8bc358",
      "df5c64fd89f34b099b8b6cd1fdd48ff3",
      "73e7919e092342acb496eca4056e8b6c"
     ]
    },
    "id": "ZHdN3SOhlljK",
    "outputId": "067ac1a5-bfc9-4632-9b16-e90c61c1b367"
   },
   "outputs": [],
   "source": [
    "from transformers import AutoModelForSequenceClassification\n",
    "\n",
    "model = AutoModelForSequenceClassification.from_pretrained(\"kocemirhan/bert-base-uncased-finetuned-rte-run_3\")\n",
    "#check your own model also\n",
    "print(model)"
   ]
  },
  {
   "cell_type": "markdown",
   "metadata": {
    "id": "7k8ge1L1IrJk"
   },
   "source": [
    "## Hyperparameter search"
   ]
  },
  {
   "cell_type": "markdown",
   "metadata": {
    "id": "RNfajuw_IrJl"
   },
   "source": [
    "The `Trainer` supports hyperparameter search using [optuna](https://optuna.org/) or [Ray Tune](https://docs.ray.io/en/latest/tune/). For this last section you will need either of those libraries installed, just uncomment the line you want on the next cell and run it. I prefer Optuna."
   ]
  },
  {
   "cell_type": "code",
   "execution_count": null,
   "metadata": {
    "id": "YUdakNBhIrJl"
   },
   "outputs": [],
   "source": [
    "%%capture\n",
    "! pip install optuna\n",
    "# ! pip install ray[tune]"
   ]
  },
  {
   "cell_type": "markdown",
   "metadata": {
    "id": "ttfT0CqaIrJm"
   },
   "source": [
    "During hyperparameter search, the `Trainer` will run several trainings, so it needs to have the model defined via a function (so it can be reinitialized at each new run) instead of just having it passed. We just use the same function as before:"
   ]
  },
  {
   "cell_type": "code",
   "execution_count": null,
   "metadata": {
    "id": "8sgjdLKcIrJm"
   },
   "outputs": [],
   "source": [
    "def model_init():\n",
    "    return AutoModelForSequenceClassification.from_pretrained(model_checkpoint, num_labels=num_labels)\n",
    "\n"
   ]
  },
  {
   "cell_type": "code",
   "execution_count": null,
   "metadata": {
    "colab": {
     "base_uri": "https://localhost:8080/",
     "height": 1000,
     "referenced_widgets": [
      "8de28ec094ec449a99a95b69d02ca281",
      "6389b4a339254693b5867c64a16b7f04",
      "b5f656aeab1c48ef924faa2a77e7d8c7",
      "479ad6eca9ce46bfb009ed506c8207aa",
      "2de5bfb04a0b4afda4ff061f5ea2e47c",
      "455fbe2c44b34fe7aa2efdaf2a78657c",
      "59f228e2d81748da807dc924ffeb8dcb",
      "721d27a4cddb4f4ea3872c42a1d48f9b",
      "1e6b13fc26214ab6a3b1434acb951d7d",
      "70297c9d904548369b73673cc399c4db",
      "17926019e6ca4d2b898686bea1ca2c5d",
      "832d0cd5cc884c3cb995ecdd0eaa0875",
      "13a62bd2f3ab41b88e842fdb22ac96a5",
      "321afddcbe624466925b1dbad0753bd7",
      "1489e26638304f3ba4572788c09d3ae5",
      "b871b00100fb4547be748ccf5e6315fc",
      "454d552139a94ba2a42714e8855975cd",
      "4c78545ea1cc424c9bf653e2f600efa7",
      "a5735f5ac4a44ce4ad52d7ac0dfd93b8",
      "295010bdedd246498c66892564b835cf",
      "27c0736c57a648a284925ff936bcc13a",
      "daae156fd18f40ef8adc6ddbabb8dc6f",
      "301129ae1a294990a1ce11749981d704",
      "027737850c4a4ad3bf7008b09f1af9b6",
      "db3756ce53fa454a98f923ca6e98dbd0",
      "59ba6df25f194409ac069aa0e0093d73",
      "efb7722f337946aaadb1fd06f21a1e57",
      "9a0fd9d23b4b4e60818b4be24b8c1fc3",
      "f16eb260d5eb41e4a56a45c9eaadec98",
      "361d681e84ab49bcb00da1825de13bb9",
      "42b0e6c497f44ad986678165aa8494fe",
      "9dc16bfdebd943c59c98cd1a7361c325",
      "7ff1fb07c04b43538627bbfe9b4ddbda",
      "23546447ffe74fb18ed7fda811a96831",
      "a9728d6a945546c0b8b0353d3feb80b0",
      "870670890d654fd282e6b119b6f18009",
      "1794aabd9b8941ec891c35d18e09ff7c",
      "5fc9d9e39de34f1ca555c7fc0d49981e",
      "a71964bab25e4e4fae6733eb7e8a0764",
      "9dca0ded68984ed295339f1ba85f9748",
      "5eec0ca6f0674e969ea3b16e1d59b6dd",
      "3755163c9b334bc1a5ab5d91a5c28337",
      "3b80a159852b4c2992d1e9b60aae36f4",
      "4f933b203d044147944b198e10bbdc2e",
      "edc4a0bfadfd4bc6b9ef1180cdf0a2b9",
      "dd6e9c0473784964b178faf646a8ca70",
      "dbef3a44d5684080b5bde5eb11805afb",
      "1e3ecebf5b714ac89a6addfb686bc31e",
      "1157d35f41874346b5fb86a55a66b8f9",
      "17a7876ae36d4d5e84fa6c0e2509af21",
      "71b0f16e0c62417a96a83015441404c5",
      "58c96c22873242b8b6b378d2e9e90177",
      "56a41e3cae0644a9895e9dfa7aadaec9",
      "25e84ed2d46b43df95a09db307eefa0b",
      "0922ee1b25a94d729deeef4e6b16f20b",
      "35fab1424126449786bd919cb13b912c",
      "50a201812fa7493cb8d7d07b1e22e90d",
      "25edfa76aad04d899b277855a1d53d3e",
      "dacd344817884eee8c9ea6c6b13c6361",
      "2495e3f38e6e4a35803b6eda59b6b671",
      "acd2f784f28146b092bf12bbe344ab76",
      "6aae52727fe24d19807caa56ce28242a",
      "0423ce04c12c4e14b340d02c19522d2e",
      "1e35723ccdc14b8bb008ff712cc25666",
      "20d51b7b952d493c89c8fe4114aa1bcf",
      "15cecb20bfd54eb98e587b5099cbb670",
      "21499b79d1c7428bb20e161d18c8902f",
      "694c9b24d74e4a47989f7e462c62cfaa",
      "4f1b82035f0346eb89187f4e79ab3bce",
      "a593415634124fbfbc2d4458e07ea1b7",
      "7d10674868484a3583baf7aa7fe95206",
      "5dada3d12471483989ca347aca77688f",
      "ab0b9c1385024f04a7093b8cbfeec6d4",
      "5357512084604d249f2eecf4bceea5f7",
      "ccc591035bd6457c93b985a56cbfb198",
      "5681df67329c4e82bccf2fee2f67a85c",
      "38871f8d45d241b6a881e29507232e93",
      "cb8addb4a05c4c59848a82307c699283",
      "d8a0b03f548b4d6f87ac19bc07d39c40",
      "305e9f6b8dc142c4938f6a25cd020f2c",
      "7bb89d445cfc4ad98fccbb13ac94bf98",
      "804faab03e9c4805a9a7dcee9ff88026",
      "b289da5d1e194fbaab97f6309b366ef6",
      "1d76327ae28f4ab39f98c6ee5d9b0cc3",
      "6d596df8b3de4a45939cb1e329cd4204",
      "8b137b2608d548f184494372de04a334",
      "d7b79575294d48778ae48f4b38d8aebe",
      "c5482395d51644a299ddf1b47fd5a559",
      "38801f147efe4d148b8a8883018bea1b",
      "5e3258ebd6084ae4884e6a165c6ca1ac",
      "765b07fb262a4bc89c1b4cedea8a08ca",
      "a44471ea585b4c548b276b97b02d5daf",
      "87e0f2f2947f425b988c2bfc44b5e443",
      "c0294fc58bea4485abaed36ce839e071",
      "63e625a6d9a244a8bc8835562f21c504",
      "4fc26ccb896d4e44b06962a5ebeffde3",
      "dbb442561e394cd6ad9e46aa582565f3",
      "c3486e04ea8c4200847dc1dc3dacb58f",
      "b2292221ef144592b04b67370a8f6690",
      "798d4e54731545cda2d993d51d074f66",
      "310d757e5d1045f6a7e110af23a5bb44",
      "0746145f96bc4dceb1f2031d1f2331cd",
      "e31065ff6669418e91db0eafcb19ed2f",
      "fa9f71ad47d34501996b728cd10d1cb8",
      "46905ed8ed78438c97acd4e88a777bca",
      "e696d4f7fb2a4cc4bda216e845870667",
      "44f54437e5c24587be1304437b2b3f2e",
      "6b43376909c741a4850589512287c304",
      "21748483b18e462ab362e2f3cc74eeee",
      "ff79e562227a4277a337afe855c4ff09",
      "166713bb29da45e08ff500cec2236aa8",
      "74644cd0912d4262826df933206b969e",
      "366585f1a1cb412cb854656bfc0f3ce8",
      "43c6c2c5209b4798baeed6df5db7040c",
      "e4c4a2ab2e734f1a9b44eac674acda15",
      "bf742be4a4ff4754ac3a40e4a6ad7c02",
      "227a0fd4231a45f1b6b569b7ade6f7ce",
      "01aeaf927be445ea8da31a32c0378ab0",
      "82ab7b8ee72e47b7bff539c97b685d61",
      "ee99ad1713314416807e38f381fda4e0",
      "469703a94aaf44d09f933195feb3618c",
      "efd5979b6dfc44b18ebaab8f30566417",
      "3207209d191b4aeb851e77d50b97c6eb",
      "a578ba4f248543c585e4764a86525b0b",
      "2bae54257c3345bd8a706d3641e0538a",
      "7b2b1df6ea8d427f8afe1b6cec69d600",
      "8935d7afa1f2460ba6897cc986c3ec37",
      "7e0b4d660c5e4b5aa8d81277dedf743b",
      "d848b57d7d09444eb37c56f064fe9fb7",
      "c4376d8394c04e65b70a179a0248d734",
      "e37ab50e5f29424bbd8eb1f9ed42f7bc",
      "1b084bd3ee0048d3895469931bb05d4d",
      "8bc34ecaf87c41f0a7cb35256d22ecb7",
      "5e81f7e64d504d7a8b3aefdb1fb7edd9",
      "e0a1960eeb1048a9b99bf7449ac5c774",
      "0e2228b70fa0455898088e94e2bc2a92",
      "bb239bdd67d34ab6983a6c5baa90c12e",
      "2d94fd5a00914fc99db13d5b91228485",
      "065b46e9d2c34d828335046224f0d193",
      "895db94069c34ce88167be811fff94a7",
      "71ca371deeba45afb7f7e707401c57a5",
      "0fe7a514a52c4a69b44194927974c085",
      "2d589183a4dd42d485944a16c94e82d3",
      "d84f97c6d9224cf0a696b1cdee07d250",
      "35ee4b597d1e42b59658bbc050265ea4",
      "a6c5a55ef4b743cbb31a58fe5a39d92d",
      "c371ad75f24e4a08b3d5c657198d20e5",
      "71806f387e454530ae083f191618921e",
      "28a0558534c64e6db6f9643c8f2c6e0c",
      "e829d08e8e4c4ebc9986f2b098f38e6e",
      "ed80cc90f2b14f08a3cdbe2e5e6c7413",
      "539b11453b4d40eb8764814505aa5d6c",
      "f43948659f1645a3babae1f01d45a300",
      "c5b2d2e3f3d04cf6844b028504549303",
      "00322a6243e84f439aac8f9521c4c105",
      "a6a62e19008f428d96fdd6ba91e9cf5c",
      "70e011d046694f1ba256ec4e793a4af2",
      "4155a5d10bc64272aeb170d3e6f7db67",
      "6648c28377074db392fc32d8b167eca7",
      "a4a48e8d98bd479bab99ca148dc10ca0",
      "f3834955535d4e3ea21cdadf1a462972",
      "e5c32d824c9844b894d5f6b3354c62af",
      "d129bb89592449b3af22728896372334",
      "bf135bebaaf043479ec805e0bf680c54",
      "625bd17ba8504dca9157701d6805d242",
      "6ac08dd0c4ae4a36ba47365c49220db7",
      "7152fa66fde5454a953b96d1636ced2a",
      "964ba2d38f5b4e4f96292e388f20f148",
      "9c650b760f474f879da74be701b752be",
      "4c8e08d50a6e41e1bbbec14bce49e282",
      "fe33df13a0914fe8b759cb6ec00f71c9",
      "a214643e080b4c1f9bcd8cfdf1d79179",
      "8903530d0f904aa397a0831f4420827b",
      "b3536f7c074649f9b6ab531b92d723a8",
      "5d0983822f3146e6a08ad541cb1327a3",
      "6304f47b36b64ef183a700f1a3fa4a03",
      "252e6df032624e4ea4cae3f74c5d0086",
      "f23a9102a2cd41d4a675f37b5ab60926",
      "17502757a9a14c80a6fef44c0ced3477",
      "205c0df9d2944eb7885742775e75c144",
      "c5baae6168a24806884ddc41b4156642",
      "0c546c7565e341508040d5ac582f9591",
      "65625cf9284b47ff9754bbbe26c9e13b",
      "03343416bd2a4da1a2f95601dcaf3ea0",
      "ea3fc528853747e49d4ac2149ed93355",
      "82a83030b5bf4a2e98954f07e67537d0",
      "efcfc1ffced64fefb2625348b192a744",
      "ded4bf61742840f1bc25ef730cca102b",
      "5d200f7052c6428abede416cd1994722",
      "c6f82f1c6de041c19843406d2609e023",
      "d8c6681871594fa1ad5619a77fd4dc3c",
      "872087a72a1e48b7b2c0f5161f046536",
      "d9b78f06851940bb88030ac67da49d91",
      "be2da97f6ed14c55bfa5204e8594029a",
      "8c3033c47b394468b920951b84def9e3",
      "62b4d5e345fb4f1885ddc4232f36d51b",
      "717f158e7c9b4cbca72c105a68ab1dc3",
      "522f9cd34cf240e9a5fb70303ad6ee43",
      "dca57aaa877c416da6a2b09c86e9679c",
      "7d4a10954bc7455ea2535e8d23b9e59b",
      "485dfec741394cd896a10cfd244deb60",
      "5b4a3d95c30a43909606db1706d7898d",
      "4a64f73ea9ad4880aa1e6691ed176e1c",
      "999e225dd88248b08c0a6286893d7c7a",
      "5e7f2151bb384e4b9e54f3234a9bce7e",
      "59f7aa88a3a44c089fe88b5ac281d598",
      "43d12d1d69bd4449984903ed1e8282ea",
      "b7e8e310019c409cadb07b97144a6595",
      "2c929f4cc85740efa9d6515760e3f654",
      "5a555e63b6424e7bb29389136474419b",
      "4ced658fa8894981889bb88568d74719",
      "1bddc0b783484727b42a9b3326ce553c",
      "46327c23ed5a4443a61987512c9440dc",
      "66cde4978669465582720cc1ee8867fe",
      "633379b58d3240378691db3f0f24ee6f",
      "6317d728d88c4f46b864bdafb78e49eb",
      "d13d3d8fb8ea465394d3adffb40eb311",
      "f6e0205810884b2ab7624f35a54009a5",
      "84cc2dc215234d6d94290567772795db",
      "afaa6d441b1e4f6daf5c9b781c72eaa2",
      "70cc8b96cdd34a39801487a47e280fc8",
      "eadeccf69875431180f7f7619aa670a6",
      "99a0375ddd9f465bb238cce33cd9fcab",
      "b57947cc4ad74fce9b99b654354a2698",
      "2b473f98a0d6434dbe8057b818d2ffdc",
      "358fff5390f94d27887370baacbb5cff",
      "396756e434a84024a3fd1f0dfaf4ddc5",
      "7b3cc1c1407347208e976b0172632955",
      "a1ce90ddf310460c9d16ba7fcaa386de",
      "7dd8b7efea124047a454f98b68441ca9",
      "b5580e5f6d2f4ccda8f0feae4331302f"
     ]
    },
    "id": "eM74gjZI_ezR",
    "outputId": "6a1ff204-ffb8-4df2-f57d-ec0938f0c421"
   },
   "outputs": [],
   "source": [
    "import optuna\n",
    "from transformers import AutoModelForSequenceClassification, TrainingArguments, Trainer\n",
    "\n",
    "# ----- 1. Custom Tokenization Function -----\n",
    "def custom_tokenize(sample, seq_limit):\n",
    "    # we need to tokenize custom due to the fact t\n",
    "    # Tokenize based on whether a second sentence exists.\n",
    "    if sentence2_key is None:\n",
    "        return tokenizer(sample[sentence1_key],\n",
    "                         max_length=seq_limit,\n",
    "                         padding=\"max_length\",\n",
    "                         truncation=True)\n",
    "    return tokenizer(sample[sentence1_key],\n",
    "                     sample[sentence2_key],\n",
    "                     max_length=seq_limit,\n",
    "                     padding=\"max_length\",\n",
    "                     truncation=True)\n",
    "\n",
    "# ----- 2. Model Initialization with Dynamic Dropout Value  -----\n",
    "def init_model(trial: optuna.trial.Trial):\n",
    "    # Load the model from the pretrained checkpoint with the appropriate number of labels.\n",
    "    model_instance = AutoModelForSequenceClassification.from_pretrained(model_checkpoint, num_labels=num_labels)\n",
    "    # Set dropout dynamically using the trial suggestion; default to 0.1 if no trial provided.\n",
    "    dropout_val = trial.suggest_float(\"dropout\", 0.0, 0.2, log=False) if trial else 0.1\n",
    "    model_instance.dropout.p = dropout_val\n",
    "    return model_instance\n",
    "\n",
    "# ----- 3. Trainer Builder with Dynamic Tokenization -----\n",
    "def build_trainer(trial):\n",
    "    bs = 128  # Batch size remains fixed across all trials since it has not been considered in the assignment instructions.\n",
    "\n",
    "    # Sample hyperparameters from the trial.\n",
    "    seq_limit = trial.suggest_categorical(\"max_length\", [64, 128, 256])\n",
    "    num_epochs = trial.suggest_categorical(\"num_train_epochs\", [3, 5, 10, 15])\n",
    "    lr = trial.suggest_float(\"learning_rate\", 1e-5, 1e-4, log=True)\n",
    "\n",
    "    # Re-tokenize the dataset using the sampled maximum sequence length.\n",
    "    tokenized_dataset = dataset.map(lambda x: custom_tokenize(x, seq_limit), batched=True)\n",
    "\n",
    "    training_args = TrainingArguments(\n",
    "        output_dir=f\"{model_checkpoint.split('/')[-1]}-finetuned-{task}-run_{1}\",\n",
    "        evaluation_strategy=\"epoch\",\n",
    "        save_strategy=\"epoch\",\n",
    "        learning_rate=lr,\n",
    "        per_device_train_batch_size=bs,\n",
    "        per_device_eval_batch_size=bs,\n",
    "        num_train_epochs=num_epochs,\n",
    "        weight_decay=0.0,\n",
    "        load_best_model_at_end=True,\n",
    "        metric_for_best_model=metric_name,\n",
    "        push_to_hub=True,\n",
    "    )\n",
    "\n",
    "    trainer_instance = Trainer(\n",
    "        model_init=lambda: init_model(trial),\n",
    "        args=training_args,\n",
    "        train_dataset=tokenized_dataset[\"train\"],\n",
    "        eval_dataset=tokenized_dataset[validation_key],\n",
    "        tokenizer=tokenizer,\n",
    "        compute_metrics=compute_metrics\n",
    "    )\n",
    "    return trainer_instance\n",
    "\n",
    "# ----- 4. Optuna Objective Function -----\n",
    "def objective_function(trial):\n",
    "    trainer_obj = build_trainer(trial)\n",
    "    trainer_obj.train()\n",
    "    results = trainer_obj.evaluate()\n",
    "    # Return evaluation accuracy as the metric to maximize.\n",
    "    return results[\"eval_accuracy\"]\n",
    "\n",
    "# ----- 5. Run Hyperparameter Search -----\n",
    "hyper_study = optuna.create_study(direction=\"maximize\")\n",
    "hyper_study.optimize(objective_function, n_trials=48)\n",
    "\n",
    "print(\"Best trial found:\")\n",
    "best_trial = hyper_study.best_trial\n",
    "print(f\"  Eval Accuracy: {best_trial.value}\")\n",
    "print(\"  Best Hyperparameters:\")\n",
    "for param, val in best_trial.params.items():\n",
    "    print(f\"    {param}: {val}\")\n",
    "\n",
    "\n"
   ]
  },
  {
   "cell_type": "markdown",
   "metadata": {
    "id": "mMXfVJO4IrJo"
   },
   "source": [
    "And we can instantiate our `Trainer` like before:"
   ]
  },
  {
   "cell_type": "markdown",
   "metadata": {
    "id": "3QJTdfNh_p1a"
   },
   "source": [
    "I want to list some additional resources that you might want to check.\n",
    "\n",
    "\n",
    "*   [Simple Training with the Huggingface Transformers Trainer](https://www.youtube.com/watch?v=u--UVvH-LIQ&t=174s&ab_channel=HuggingFace)\n",
    "*   \n",
    "\n"
   ]
  },
  {
   "cell_type": "code",
   "execution_count": null,
   "metadata": {
    "colab": {
     "base_uri": "https://localhost:8080/"
    },
    "id": "zSHEAfJV3-kO",
    "outputId": "b3ae87a6-9414-4f91-8083-5eb4cee13762"
   },
   "outputs": [],
   "source": [
    "# ----- 6. Final Model Training with Best Hyperparameters -----\n",
    "final_trainer = build_trainer(best_trial)\n",
    "final_train_output = final_trainer.train()  # Capture training output for loss logging.\n",
    "final_eval = final_trainer.evaluate()\n",
    "print(\"Final evaluation metrics:\", final_eval)"
   ]
  },
  {
   "cell_type": "code",
   "execution_count": null,
   "metadata": {
    "colab": {
     "base_uri": "https://localhost:8080/",
     "height": 819
    },
    "id": "-TgTwV1SKqVS",
    "outputId": "5260f799-6a18-4d4e-b3e7-50acd49ec216"
   },
   "outputs": [],
   "source": [
    "# ----- 7. Report Loss Curves and Accuracy Results of the Best-Performing Model -----\n",
    "import matplotlib.pyplot as plt\n",
    "\n",
    "# Extract the logged training history from the Trainer's state\n",
    "log_history = final_trainer.state.log_history\n",
    "\n",
    "# Initialize lists to store loss information.\n",
    "train_steps, train_losses = [], []\n",
    "eval_steps, eval_losses = [], []\n",
    "\n",
    "# Process the logs.\n",
    "for log in log_history:\n",
    "    # Sometimes logs contain a \"step\" and \"loss\" entry during training.\n",
    "    if \"loss\" in log and \"step\" in log:\n",
    "        train_steps.append(log[\"step\"])\n",
    "        train_losses.append(log[\"loss\"])\n",
    "    # Evaluation logs usually have \"eval_loss\" and \"step\" entries.\n",
    "    if \"eval_loss\" in log and \"step\" in log:\n",
    "        eval_steps.append(log[\"step\"])\n",
    "        eval_losses.append(log[\"eval_loss\"])\n",
    "\n",
    "# Plotting the training and evaluation loss curves (if evaluation loss exists)\n",
    "plt.figure(figsize=(10, 6))\n",
    "plt.plot(train_steps, train_losses, label=\"Training Loss\", marker=\"o\", linestyle=\"-\")\n",
    "if eval_losses:\n",
    "    plt.plot(eval_steps, eval_losses, label=\"Evaluation Loss\", marker=\"o\", linestyle=\"-\")\n",
    "\n",
    "plt.title(\"Loss Curves During Training\")\n",
    "plt.xlabel(\"Training Step\")\n",
    "plt.ylabel(\"Loss\")\n",
    "plt.legend()\n",
    "plt.grid(True)\n",
    "plt.show()\n",
    "\n",
    "# Display the final evaluation metrics, including accuracy.\n",
    "print(\"Final Evaluation Metrics:\")\n",
    "for metric, value in final_eval.items():\n",
    "    print(f\"{metric}: {value}\")\n",
    "\n",
    "# Optionally, specifically print the final evaluation accuracy if it exists.\n",
    "if \"eval_accuracy\" in final_eval:\n",
    "    print(f\"\\nFinal Evaluation Accuracy: {final_eval['eval_accuracy']}\")\n",
    "\n",
    "# Display the best trial hyperparameters\n",
    "print(\"\\nBest Trial Hyperparameters:\")\n",
    "for param, val in best_trial.params.items():\n",
    "    print(f\"  {param}: {val}\")\n"
   ]
  },
  {
   "cell_type": "code",
   "execution_count": null,
   "metadata": {
    "colab": {
     "base_uri": "https://localhost:8080/"
    },
    "id": "pn3eWqd5eGwB",
    "outputId": "e11b15d7-73c7-410d-bab9-eeff8ec41ec1"
   },
   "outputs": [],
   "source": [
    "print(\"Best trial found:\")\n",
    "best_trial = hyper_study.best_trial\n",
    "print(f\"  Eval Accuracy: {best_trial.value}\")\n",
    "print(\"  Best Hyperparameters:\")\n",
    "for param, val in best_trial.params.items():\n",
    "    print(f\"    {param}: {val}\")\n"
   ]
  },
  {
   "cell_type": "code",
   "execution_count": null,
   "metadata": {
    "colab": {
     "base_uri": "https://localhost:8080/",
     "height": 487
    },
    "id": "cgUAvHWU4DTc",
    "outputId": "092e9770-bf5c-4e21-bb54-4f3eca3d0f48"
   },
   "outputs": [],
   "source": [
    "import matplotlib.pyplot as plt\n",
    "\n",
    "# --- Plot Hyperparameter Tuning Results ---\n",
    "trial_numbers = [trial.number for trial in hyper_study.trials]\n",
    "eval_accuracies = [trial.value for trial in hyper_study.trials]\n",
    "\n",
    "plt.figure(figsize=(10, 5))\n",
    "plt.plot(trial_numbers, eval_accuracies, marker='o', linestyle='-', color='blue')\n",
    "plt.xlabel(\"Trial Number\")\n",
    "plt.ylabel(\"Evaluation Accuracy\")\n",
    "plt.title(\"Hyperparameter Tuning Results\")\n",
    "plt.grid(True)\n",
    "plt.show()\n",
    "\n"
   ]
  },
  {
   "cell_type": "code",
   "execution_count": null,
   "metadata": {
    "colab": {
     "base_uri": "https://localhost:8080/",
     "height": 117,
     "referenced_widgets": [
      "e4c8438460b04fce85d3ccd3ee6dd459",
      "2f2c4204dc334863b715feeedc77fb77",
      "6779a7aad1bf405894b4a9ebe1149913",
      "957659f8ed5b44b18488281aedf45699",
      "179e7b2955634f1487f218bfa6f49a1d",
      "e677610249a34a92b3cc8a8f56306d9d",
      "6c10c287984945bf82b2dd8138080728",
      "586d34f3a0ea49f385d67abd8b3c6cdb",
      "7007d52fe9144d7ca5dd3eaee275dcc1",
      "edfba2da4474436e9dd175bafd760bb7",
      "6944b9d01e6b434398098689b141b320"
     ]
    },
    "id": "L7QTCoehbohe",
    "outputId": "299d99cf-a632-40ec-8c73-965525a04261"
   },
   "outputs": [],
   "source": [
    "final_trainer.push_to_hub(\n",
    "\n",
    "    commit_message=\"Add final model from best trial found\",\n",
    "\n",
    "    blocking=True,\n",
    "\n",
    ")"
   ]
  },
  {
   "cell_type": "code",
   "execution_count": null,
   "metadata": {
    "id": "G4dWYZYWZNon"
   },
   "outputs": [],
   "source": [
    "import optuna.visualization as vis"
   ]
  },
  {
   "cell_type": "code",
   "execution_count": null,
   "metadata": {
    "colab": {
     "base_uri": "https://localhost:8080/",
     "height": 542
    },
    "id": "5HwrRnkkd38C",
    "outputId": "3a9c0283-b244-4f7b-ebf0-1cba97763582"
   },
   "outputs": [],
   "source": [
    "# Plot the parameter importances to see which hyperparameters had the highest impact on performance\n",
    "fig_importance = vis.plot_param_importances(hyper_study)\n",
    "fig_importance.update_layout(title=\"Optuna Parameters\")\n",
    "fig_importance.show()\n"
   ]
  },
  {
   "cell_type": "code",
   "execution_count": null,
   "metadata": {
    "colab": {
     "base_uri": "https://localhost:8080/",
     "height": 542
    },
    "id": "5AG7Px23fLRI",
    "outputId": "1590b911-a15d-448b-969d-8ee76d50bf18"
   },
   "outputs": [],
   "source": [
    "# Plot the optimization history (objective value vs. trial number)\n",
    "fig_history = vis.plot_optimization_history(hyper_study)\n",
    "fig_history.update_layout(title=\"Optuna History\")\n",
    "fig_history.show()\n"
   ]
  },
  {
   "cell_type": "code",
   "execution_count": null,
   "metadata": {
    "colab": {
     "base_uri": "https://localhost:8080/",
     "height": 542
    },
    "id": "6O-BsPHefMfj",
    "outputId": "df0bcd4f-6339-4aae-e62b-a4acfef6332f"
   },
   "outputs": [],
   "source": [
    "# Generate a slice plot to visualize the relationship between hyperparameter values and evaluation metric\n",
    "fig_slice = vis.plot_slice(hyper_study)\n",
    "fig_slice.update_layout(title=\"Optuna Slice Plot\")\n",
    "fig_slice.show()\n"
   ]
  },
  {
   "cell_type": "code",
   "execution_count": null,
   "metadata": {
    "colab": {
     "base_uri": "https://localhost:8080/",
     "height": 542
    },
    "id": "o3cHodD-fM2M",
    "outputId": "d95086b0-85c4-4205-86b2-7cb7224d66f7"
   },
   "outputs": [],
   "source": [
    "\n",
    "# Create a parallel coordinate plot to inspect the multidimensional search space\n",
    "fig_parallel = vis.plot_parallel_coordinate(hyper_study)\n",
    "fig_parallel.update_layout(title=\"Optuna Parallel Coordinate Plot\")\n",
    "fig_parallel.show()"
   ]
  }
 ],
 "metadata": {
  "accelerator": "GPU",
  "colab": {
   "gpuClass": "premium",
   "machine_shape": "hm",
   "provenance": []
  },
  "gpuClass": "premium",
  "kernelspec": {
   "display_name": "nlp_hw2",
   "language": "python",
   "name": "python3"
  },
  "language_info": {
   "codemirror_mode": {
    "name": "ipython",
    "version": 3
   },
   "file_extension": ".py",
   "mimetype": "text/x-python",
   "name": "python",
   "nbconvert_exporter": "python",
   "pygments_lexer": "ipython3",
   "version": "3.10.16"
  }
 },
 "nbformat": 4,
 "nbformat_minor": 0
}
